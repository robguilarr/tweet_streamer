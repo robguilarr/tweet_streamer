{
 "cells": [
  {
   "cell_type": "code",
   "execution_count": null,
   "metadata": {},
   "outputs": [],
   "source": [
    "import tweepy\n",
    "import json\n",
    "import pandas as pd\n",
    "import sys\n",
    "from tweepy import Stream\n",
    "import streamer"
   ]
  },
  {
   "cell_type": "markdown",
   "metadata": {},
   "source": [
    "## Setting the Authorization"
   ]
  },
  {
   "cell_type": "code",
   "execution_count": null,
   "metadata": {},
   "outputs": [],
   "source": [
    "# Load your own keys \n",
    "with open(\"twitter-keys.json\") as file:\n",
    "  keysjson = json.load(file)\n",
    "\n",
    "\n",
    "#1. Get a request keys from twitter API, just saved in a JSON for privacy.\n",
    "# Token as variables\n",
    "accessToken = keysjson[\"access_token\"]\n",
    "accessTokenSecret = keysjson[\"access_token_secret\"]\n",
    "consumerKey = keysjson[\"consumer_key\"]\n",
    "consumerSecret = keysjson[\"consumer_secret\"]\n",
    "bearerToken = keysjson[\"bearer_token\"]\n",
    "\n",
    "#2. Authorize Access to the API using .OAuthHandler().\n",
    "authenticate = tweepy.OAuthHandler(consumerKey, consumerSecret)\n",
    "\n",
    "#3. Set the Access tokens.\n",
    "authenticate.set_access_token(accessToken, accessTokenSecret)\n",
    "\n",
    "#4. Create the API object while passing in the auth information.\n",
    "api = tweepy.API(authenticate, wait_on_rate_limit = True) # Whether or not to automatically wait for rate limits to replenish, in case in case i run out of rquest chances"
   ]
  },
  {
   "cell_type": "markdown",
   "metadata": {},
   "source": [
    "## Creating the Listener"
   ]
  },
  {
   "cell_type": "code",
   "execution_count": null,
   "metadata": {},
   "outputs": [],
   "source": [
    "# First Stream fetched 35 tweets per second\n",
    "stream = streamer.Listener(consumerKey=consumerKey,consumerSecret=consumerSecret,\n",
    "                  accessToken=accessToken,accessTokenSecret=accessTokenSecret,\n",
    "                  output_file=\"stream_output.txt\")\n",
    "\n",
    "try:\n",
    "    # Start Listening \n",
    "    print('>>> Streaming Started <<<')\n",
    "\n",
    "    # TWEEPY STREAMING QUERY \n",
    "    stream.filter(track=['covid'])\n",
    "    \n",
    "except KeyboardInterrupt as e :\n",
    "    # Stop on interruption\n",
    "    print(\">>>> Streaming Stopped <<<<\")\n",
    "    \n",
    "finally:\n",
    "    tweets = streamer.Wrangler(tweets_list=stream.tweets,\n",
    "                                    retweets_list=stream.retweets,\n",
    "                                    quoted_list=stream.quoted,\n",
    "                                    columns=stream.sub_columns).tweets\n",
    "    \n",
    "    # Set Date as index\n",
    "    tweets = tweets.set_index('created_at')\n",
    "\n",
    "    # Single output txt generated and a counter of tweets\n",
    "    TextOut = stream.TextOut\n",
    "    count_status = stream.status_counter\n",
    "\n",
    "    \n",
    "    print('>>> Streaming Finished <<<')\n",
    "    stream.disconnect()"
   ]
  }
 ],
 "metadata": {
  "interpreter": {
   "hash": "1c799f1dd04f2a0fb6e359b4b1880819f8526bbc50e4cce8353eb3e84b0f0379"
  },
  "kernelspec": {
   "display_name": "Python 3.9.7 64-bit ('base': conda)",
   "language": "python",
   "name": "python3"
  },
  "language_info": {
   "codemirror_mode": {
    "name": "ipython",
    "version": 3
   },
   "file_extension": ".py",
   "mimetype": "text/x-python",
   "name": "python",
   "nbconvert_exporter": "python",
   "pygments_lexer": "ipython3",
   "version": "3.9.7"
  },
  "orig_nbformat": 4
 },
 "nbformat": 4,
 "nbformat_minor": 2
}
